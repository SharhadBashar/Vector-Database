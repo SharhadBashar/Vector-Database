{
 "cells": [
  {
   "cell_type": "code",
   "execution_count": 96,
   "metadata": {},
   "outputs": [],
   "source": [
    "import re\n",
    "import pandas as pd"
   ]
  },
  {
   "cell_type": "code",
   "execution_count": 88,
   "metadata": {},
   "outputs": [],
   "source": [
    "data = '../data/data.csv'\n",
    "description = '../data/description.csv'\n",
    "df = pd.read_csv(data)\n",
    "df['Description'] = df['Description'].str.encode('utf-8', 'ignore')\n",
    "df['Description'] = df['Description'].apply(lambda x: re.split('http\\/\\/.*', str(x))[0])\n",
    "df_description = pd.read_csv(description)"
   ]
  },
  {
   "cell_type": "code",
   "execution_count": 44,
   "metadata": {},
   "outputs": [],
   "source": [
    "def clean_text(row):\n",
    "    # return the list of decoded cell in the Series instead \n",
    "    return [r.encode('ascii', 'ignore').decode() for r in row]"
   ]
  },
  {
   "cell_type": "code",
   "execution_count": 93,
   "metadata": {},
   "outputs": [],
   "source": [
    "df_main = df['Description'].sample(10)\n"
   ]
  },
  {
   "cell_type": "code",
   "execution_count": 94,
   "metadata": {},
   "outputs": [
    {
     "data": {
      "text/plain": [
       "12232    b'Another Daily Devotional Broadcast from Fres...\n",
       "414      b'The White House gets raked for holding an in...\n",
       "7306     b\"Join us for part one of https://www.darkcast...\n",
       "11358    b\"On this episode of The Wrestling Delorean Po...\n",
       "7966                           b'Follow Gary on GaryK.com'\n",
       "6909     b'PWTorch editor Wade Keller is joined by PWTo...\n",
       "11860    b'There are a few places put forward as the \\\\...\n",
       "11555    b\"#4- How Handle FBI Dopes @ Door; Psychedelic...\n",
       "13714    b'Awesemo daily fantasy football expert Pete M...\n",
       "11631    b\"In this episode, we learn more about how to ...\n",
       "Name: Description, dtype: object"
      ]
     },
     "execution_count": 94,
     "metadata": {},
     "output_type": "execute_result"
    }
   ],
   "source": [
    "df_main.to_csv('../data/df_main.csv', header = ['description'], index=False)\n",
    "df_main"
   ]
  },
  {
   "cell_type": "code",
   "execution_count": 95,
   "metadata": {},
   "outputs": [
    {
     "data": {
      "text/plain": [
       "12232    another daily devotional broadcast from fresh ...\n",
       "414      the white house gets raked for holding an infl...\n",
       "7306     join us for part one of httpswww.darkcastnetwo...\n",
       "11358    on this episode of the wrestling delorean podc...\n",
       "7966                              follow gary on garyk.com\n",
       "6909     pwtorch editor wade keller is joined by pwtorc...\n",
       "11860    there are a few places put forward as the most...\n",
       "11555    4 how handle fbi dopes  door psychedelic doc k...\n",
       "13714    awesemo daily fantasy football expert pete mcc...\n",
       "11631    in this episode, we learn more about how to se...\n",
       "Name: title, dtype: object"
      ]
     },
     "execution_count": 95,
     "metadata": {},
     "output_type": "execute_result"
    }
   ],
   "source": [
    "df_desc = df_description['title'][df_main.index]\n",
    "df_desc.to_csv('../data/df_desc.csv')\n",
    "df_desc"
   ]
  },
  {
   "cell_type": "code",
   "execution_count": 52,
   "metadata": {},
   "outputs": [
    {
     "name": "stdout",
     "output_type": "stream",
     "text": [
      "Tonights guest, Kaden Womack, is a 28 ye\n"
     ]
    }
   ],
   "source": [
    "str = 'Tonight\\u2019s guest, Kaden Womack, is a 28 ye'\n",
    "str_en = str.encode(\"ascii\", \"ignore\").decode('ascii')\n",
    "\n",
    "print(str_en)"
   ]
  },
  {
   "cell_type": "code",
   "execution_count": null,
   "metadata": {},
   "outputs": [],
   "source": []
  }
 ],
 "metadata": {
  "kernelspec": {
   "display_name": "Python 3",
   "language": "python",
   "name": "python3"
  },
  "language_info": {
   "codemirror_mode": {
    "name": "ipython",
    "version": 3
   },
   "file_extension": ".py",
   "mimetype": "text/x-python",
   "name": "python",
   "nbconvert_exporter": "python",
   "pygments_lexer": "ipython3",
   "version": "3.9.16"
  },
  "orig_nbformat": 4
 },
 "nbformat": 4,
 "nbformat_minor": 2
}
