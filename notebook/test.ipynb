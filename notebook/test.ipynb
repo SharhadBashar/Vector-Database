{
 "cells": [
  {
   "cell_type": "code",
   "execution_count": 96,
   "metadata": {},
   "outputs": [],
   "source": [
    "import re\n",
    "import pandas as pd"
   ]
  },
  {
   "cell_type": "code",
   "execution_count": 199,
   "metadata": {},
   "outputs": [],
   "source": [
    "data = '../data/data.csv'\n",
    "description = '../data/description.csv'\n",
    "df = pd.read_csv(data)\n",
    "# df['Description'] = df['Description'].str.encode('utf-8', 'ignore')\n",
    "# df['Description'] = df['Description'].str.encode('ascii', 'ignore').str.decode('ascii')\n",
    "# df['Description'] = df['Description'].replace(r'http\\S+', '', regex=True).replace(r'www\\S+', '', regex=True)\n",
    "\n",
    "df_description = pd.read_csv(description)"
   ]
  },
  {
   "cell_type": "code",
   "execution_count": 200,
   "metadata": {},
   "outputs": [
    {
     "data": {
      "text/plain": [
       "14255    \\u00a0\\n\\nMinister Robinlynne Mabin\\u00a0has b...\n",
       "14256    With reviews of new cinema releases Bastille D...\n",
       "14257    Tracks from Hardwell, W&W, Kura, Seven Lions, ...\n",
       "14258    Hey everyone! If we haven\\u2019t seen you late...\n",
       "14259    Happy Thursday! It\\u2019s the Full Moon today,...\n",
       "14260    Clothes Free Life presents the first episode o...\n",
       "14261    Real estate heir Robert Durst, accused of kill...\n",
       "14262    Colorado Marijuana Shop tied to strip club and...\n",
       "14263                            RIGHT NOW Tinder Problems\n",
       "14264    Mobile Predictions and Key Mobile Trends in 20...\n",
       "Name: Description, dtype: object"
      ]
     },
     "execution_count": 200,
     "metadata": {},
     "output_type": "execute_result"
    }
   ],
   "source": [
    "df_main = df['Description'].tail(10)\n",
    "df_main.to_csv('../data/df_main.csv')\n",
    "df_main\n"
   ]
  },
  {
   "cell_type": "code",
   "execution_count": 95,
   "metadata": {},
   "outputs": [
    {
     "data": {
      "text/plain": [
       "12232    another daily devotional broadcast from fresh ...\n",
       "414      the white house gets raked for holding an infl...\n",
       "7306     join us for part one of httpswww.darkcastnetwo...\n",
       "11358    on this episode of the wrestling delorean podc...\n",
       "7966                              follow gary on garyk.com\n",
       "6909     pwtorch editor wade keller is joined by pwtorc...\n",
       "11860    there are a few places put forward as the most...\n",
       "11555    4 how handle fbi dopes  door psychedelic doc k...\n",
       "13714    awesemo daily fantasy football expert pete mcc...\n",
       "11631    in this episode, we learn more about how to se...\n",
       "Name: title, dtype: object"
      ]
     },
     "execution_count": 95,
     "metadata": {},
     "output_type": "execute_result"
    }
   ],
   "source": [
    "df_desc = df_description['title'][df_main.index]\n",
    "df_desc.to_csv('../data/df_desc.csv')\n",
    "df_desc"
   ]
  },
  {
   "cell_type": "code",
   "execution_count": 216,
   "metadata": {},
   "outputs": [
    {
     "name": "stdout",
     "output_type": "stream",
     "text": [
      "Minister Robinlynne Mabinhas b\n"
     ]
    }
   ],
   "source": [
    "str = '\\u00a0\\n\\nMinister Robinlynne Mabin\\u00a0has \\r\\n\\rb'\n",
    "str_en = str.encode('ascii', 'ignore').decode('ascii').replace('\\n', '').replace('\\r', '')\n",
    "\n",
    "print(str_en)"
   ]
  },
  {
   "cell_type": "code",
   "execution_count": null,
   "metadata": {},
   "outputs": [],
   "source": []
  }
 ],
 "metadata": {
  "kernelspec": {
   "display_name": "Python 3",
   "language": "python",
   "name": "python3"
  },
  "language_info": {
   "codemirror_mode": {
    "name": "ipython",
    "version": 3
   },
   "file_extension": ".py",
   "mimetype": "text/x-python",
   "name": "python",
   "nbconvert_exporter": "python",
   "pygments_lexer": "ipython3",
   "version": "3.9.16"
  },
  "orig_nbformat": 4
 },
 "nbformat": 4,
 "nbformat_minor": 2
}
