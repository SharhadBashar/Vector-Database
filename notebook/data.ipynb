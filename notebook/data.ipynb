{
 "cells": [
  {
   "cell_type": "code",
   "execution_count": 52,
   "metadata": {},
   "outputs": [],
   "source": [
    "import pandas as pd"
   ]
  },
  {
   "cell_type": "code",
   "execution_count": 53,
   "metadata": {},
   "outputs": [],
   "source": [
    "data = '../data/data.csv'\n",
    "df = pd.read_csv(data)"
   ]
  },
  {
   "cell_type": "code",
   "execution_count": 54,
   "metadata": {},
   "outputs": [
    {
     "data": {
      "text/html": [
       "<div>\n",
       "<style scoped>\n",
       "    .dataframe tbody tr th:only-of-type {\n",
       "        vertical-align: middle;\n",
       "    }\n",
       "\n",
       "    .dataframe tbody tr th {\n",
       "        vertical-align: top;\n",
       "    }\n",
       "\n",
       "    .dataframe thead th {\n",
       "        text-align: right;\n",
       "    }\n",
       "</style>\n",
       "<table border=\"1\" class=\"dataframe\">\n",
       "  <thead>\n",
       "    <tr style=\"text-align: right;\">\n",
       "      <th></th>\n",
       "      <th>PodcastName</th>\n",
       "      <th>EpisodeName</th>\n",
       "      <th>Description</th>\n",
       "    </tr>\n",
       "  </thead>\n",
       "  <tbody>\n",
       "    <tr>\n",
       "      <th>0</th>\n",
       "      <td>Broken Simulation with Sam Tripoli and Johnny ...</td>\n",
       "      <td>#88: \"Shapeshifter\" + Sam Prevents Race Riot +...</td>\n",
       "      <td>The creepiest voicemail we have yet to receive...</td>\n",
       "    </tr>\n",
       "    <tr>\n",
       "      <th>1</th>\n",
       "      <td>Spotlight English</td>\n",
       "      <td>Forming a Family: Friends as Family</td>\n",
       "      <td>Do you have friends who are so close, they are...</td>\n",
       "    </tr>\n",
       "    <tr>\n",
       "      <th>2</th>\n",
       "      <td>Yours Truly, Johnny Dollar</td>\n",
       "      <td>YTJD 1954-06-29 221 The Woodward Manila Matter...</td>\n",
       "      <td>Yours Truly, Johnny Dollar was a radio drama t...</td>\n",
       "    </tr>\n",
       "    <tr>\n",
       "      <th>3</th>\n",
       "      <td>Art of Wrestling</td>\n",
       "      <td>ROAD DIARIES SERIES: 25. UK TV MEDIA</td>\n",
       "      <td>Past Archives are all AD FREE at Patreon.com/C...</td>\n",
       "    </tr>\n",
       "    <tr>\n",
       "      <th>4</th>\n",
       "      <td>Disclosed: UFO Files</td>\n",
       "      <td>Art Bell: Maryland UFO the Government &amp; UFOs</td>\n",
       "      <td>https://archive.org/search?query=art+bell+coll...</td>\n",
       "    </tr>\n",
       "  </tbody>\n",
       "</table>\n",
       "</div>"
      ],
      "text/plain": [
       "                                         PodcastName  \\\n",
       "0  Broken Simulation with Sam Tripoli and Johnny ...   \n",
       "1                                  Spotlight English   \n",
       "2                         Yours Truly, Johnny Dollar   \n",
       "3                                   Art of Wrestling   \n",
       "4                               Disclosed: UFO Files   \n",
       "\n",
       "                                         EpisodeName  \\\n",
       "0  #88: \"Shapeshifter\" + Sam Prevents Race Riot +...   \n",
       "1                Forming a Family: Friends as Family   \n",
       "2  YTJD 1954-06-29 221 The Woodward Manila Matter...   \n",
       "3               ROAD DIARIES SERIES: 25. UK TV MEDIA   \n",
       "4       Art Bell: Maryland UFO the Government & UFOs   \n",
       "\n",
       "                                         Description  \n",
       "0  The creepiest voicemail we have yet to receive...  \n",
       "1  Do you have friends who are so close, they are...  \n",
       "2  Yours Truly, Johnny Dollar was a radio drama t...  \n",
       "3  Past Archives are all AD FREE at Patreon.com/C...  \n",
       "4  https://archive.org/search?query=art+bell+coll...  "
      ]
     },
     "execution_count": 54,
     "metadata": {},
     "output_type": "execute_result"
    }
   ],
   "source": [
    "df.head()"
   ]
  },
  {
   "cell_type": "code",
   "execution_count": 5,
   "metadata": {},
   "outputs": [
    {
     "data": {
      "text/plain": [
       "'\\n1. lowercase everything\\n2. remove special characters\\n'"
      ]
     },
     "execution_count": 5,
     "metadata": {},
     "output_type": "execute_result"
    }
   ],
   "source": [
    "'''\n",
    "1. lowercase everything\n",
    "2. remove special characters\n",
    "'''"
   ]
  },
  {
   "cell_type": "code",
   "execution_count": 60,
   "metadata": {},
   "outputs": [
    {
     "name": "stderr",
     "output_type": "stream",
     "text": [
      "/var/folders/p7/37gvwfj126vbz0f_w_nr2c880000gn/T/ipykernel_2149/3663002854.py:1: FutureWarning: The default value of regex will change from True to False in a future version.\n",
      "  df['PodcastName'] = df['PodcastName'].str.replace('[^A-Za-z0-9., ]+', '')\n",
      "/var/folders/p7/37gvwfj126vbz0f_w_nr2c880000gn/T/ipykernel_2149/3663002854.py:5: FutureWarning: The default value of regex will change from True to False in a future version.\n",
      "  df['EpisodeName'] = df['EpisodeName'].str.replace('[^A-Za-z0-9., ]+', '')\n",
      "/var/folders/p7/37gvwfj126vbz0f_w_nr2c880000gn/T/ipykernel_2149/3663002854.py:9: FutureWarning: The default value of regex will change from True to False in a future version.\n",
      "  df['Description'] = df['Description'].str.replace('[^A-Za-z0-9., ]+', '')\n"
     ]
    }
   ],
   "source": [
    "df['PodcastName'] = df['PodcastName'].str.replace('[^A-Za-z0-9., ]+', '')\n",
    "df['PodcastName'] = df['PodcastName'].str.replace('\"', '')\n",
    "df_podcast = df['PodcastName'].str.lower()\n",
    "\n",
    "df['EpisodeName'] = df['EpisodeName'].str.replace('[^A-Za-z0-9., ]+', '')\n",
    "df['EpisodeName'] = df['EpisodeName'].str.replace('\"', '')\n",
    "df_episode = df['EpisodeName'].str.lower()\n",
    "\n",
    "df['Description'] = df['Description'].str.replace('[^A-Za-z0-9., ]+', '')\n",
    "df['Description'] = df['Description'].str.replace('\"', '')\n",
    "df_description = df['Description'].str.lower()\n",
    "\n",
    "df_all = df_podcast + ' ' + df_episode + ' ' + df_description\n",
    "\n",
    "df_podcast = df_podcast.dropna()\n",
    "df_episode = df_episode.dropna()\n",
    "df_description = df_description.dropna()\n",
    "df_all = df_all.dropna()"
   ]
  },
  {
   "cell_type": "code",
   "execution_count": 61,
   "metadata": {},
   "outputs": [],
   "source": [
    "df_podcast.to_csv('../data/podcast.csv', index = False, header = ['title'])\n",
    "df_episode.to_csv('../data/episode.csv', index = False, header = ['title'])\n",
    "df_description.to_csv('../data/description.csv', index = False, header = ['title'])\n",
    "df_all.to_csv('../data/all.csv', index = False, header = ['title'])"
   ]
  },
  {
   "cell_type": "code",
   "execution_count": null,
   "metadata": {},
   "outputs": [],
   "source": []
  }
 ],
 "metadata": {
  "kernelspec": {
   "display_name": "Python 3",
   "language": "python",
   "name": "python3"
  },
  "language_info": {
   "codemirror_mode": {
    "name": "ipython",
    "version": 3
   },
   "file_extension": ".py",
   "mimetype": "text/x-python",
   "name": "python",
   "nbconvert_exporter": "python",
   "pygments_lexer": "ipython3",
   "version": "3.9.16"
  },
  "orig_nbformat": 4
 },
 "nbformat": 4,
 "nbformat_minor": 2
}
